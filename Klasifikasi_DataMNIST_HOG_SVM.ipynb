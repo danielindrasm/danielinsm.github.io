{
  "cells": [
    {
      "cell_type": "markdown",
      "metadata": {
        "id": "view-in-github",
        "colab_type": "text"
      },
      "source": [
        "<a href=\"https://colab.research.google.com/github/danielindrasm/danielinsm.github.io/blob/main/Klasifikasi_DataMNIST_HOG_SVM.ipynb\" target=\"_parent\"><img src=\"https://colab.research.google.com/assets/colab-badge.svg\" alt=\"Open In Colab\"/></a>"
      ]
    },
    {
      "cell_type": "code",
      "source": [
        "import numpy as np\n",
        "from sklearn import datasets\n",
        "from sklearn.model_selection import train_test_split\n",
        "from sklearn.preprocessing import StandardScaler\n",
        "from sklearn.decomposition import PCA\n",
        "from sklearn.svm import SVC\n",
        "from sklearn.metrics import accuracy_score, confusion_matrix, precision_score\n",
        "from skimage.feature import hog\n",
        "from skimage import exposure\n",
        "\n",
        "\n",
        "# masuk ke dataset MNIST\n",
        "digits = datasets.load_digits()\n",
        "\n",
        "# Fitur extraction pada Hog\n",
        "def extract_hog_features(images):\n",
        "    features = []\n",
        "    for image in images:\n",
        "        fd, hog_image = hog(image.reshape((8, 8)), orientations=8, pixels_per_cell=(5, 5), cells_per_block=(1, 1), visualize=True)\n",
        "        features.append(fd)\n",
        "    return np.array(features)\n",
        "\n",
        "# Membagi Dataset\n",
        "x_train, x_test, y_train, y_test = train_test_split(digits.data, digits.target, test_size=0.3, random_state=42)\n",
        "\n",
        "\n",
        "# Fitur menggunakan HOG\n",
        "x_train_hog = extract_hog_features(x_train)\n",
        "x_test_hog  = extract_hog_features(x_test)\n",
        "\n",
        "\n",
        "# Fitur yang sesuai dengan standarisai\n",
        "scaler = StandardScaler().fit(x_train_hog)\n",
        "x_train_hog = scaler.transform(x_train_hog)\n",
        "x_test_hog = scaler.transform(x_test_hog)\n",
        "\n",
        "\n",
        "# Train menggunakan SVM\n",
        "svm_model = SVC(kernel='linear', C=1)\n",
        "svm_model.fit(x_train_hog, y_train)\n",
        "\n",
        "\n",
        "# Melakukan prediksi\n",
        "y_pred = svm_model.predict(x_test_hog)\n",
        "\n",
        "# Evaluasi performance\n",
        "accuracy = accuracy_score(y_test, y_pred)\n",
        "conf_matrix = confusion_matrix(y_test, y_pred)\n",
        "precision = precision_score(y_test, y_pred, average='weighted')\n",
        "\n",
        "# Hasil yang di tampilkan\n",
        "print(\"Accuracy:\", accuracy)\n",
        "print(\"Confusion Matrix:\\n\", conf_matrix)\n",
        "print(\"Precision:\", precision)\n"
      ],
      "metadata": {
        "id": "6cHvB8VilkN2",
        "outputId": "480f539c-2cd4-4a4c-af11-daea1cf7ebf0",
        "colab": {
          "base_uri": "https://localhost:8080/"
        }
      },
      "execution_count": 1,
      "outputs": [
        {
          "output_type": "stream",
          "name": "stdout",
          "text": [
            "Accuracy: 0.3888888888888889\n",
            "Confusion Matrix:\n",
            " [[13  1  5  0 12  4 12  0  4  2]\n",
            " [ 0 25  6  8  2  0  4  2  1  2]\n",
            " [ 0  1 15  3  0  3  3  9  4  9]\n",
            " [ 0  1 11 13  1  3  0  3  6 16]\n",
            " [ 5  1  4  0 32  2  3 10  1  2]\n",
            " [ 1  1  3  6  1 16  2  1  8 27]\n",
            " [ 8  0  4  0  9  1 19  5  6  1]\n",
            " [ 2  0  6  1  6  5  1 27  4  3]\n",
            " [ 8  0  3  2  0  6  3  3 10  8]\n",
            " [ 1  0  6  8  0  2  0  1  1 40]]\n",
            "Precision: 0.4083511404873106\n"
          ]
        }
      ]
    }
  ],
  "metadata": {
    "colab": {
      "name": "Welcome To Colaboratory",
      "toc_visible": true,
      "provenance": [],
      "include_colab_link": true
    },
    "kernelspec": {
      "display_name": "Python 3",
      "name": "python3"
    }
  },
  "nbformat": 4,
  "nbformat_minor": 0
}